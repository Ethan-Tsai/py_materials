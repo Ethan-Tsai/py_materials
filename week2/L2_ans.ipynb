{
 "cells": [
  {
   "cell_type": "markdown",
   "id": "7974d1a4",
   "metadata": {},
   "source": [
    "### 練習1 "
   ]
  },
  {
   "cell_type": "markdown",
   "id": "3787e520",
   "metadata": {},
   "source": [
    "#### 1.創建一個字串變數 my_string，並將其值設為4ever。2.輸出該字串的第一個字元。   3. 將其轉為int型別。   4. 輸出type。"
   ]
  },
  {
   "cell_type": "code",
   "execution_count": 3,
   "id": "05639eaa",
   "metadata": {},
   "outputs": [
    {
     "name": "stdout",
     "output_type": "stream",
     "text": [
      "4\n",
      "<class 'int'>\n"
     ]
    }
   ],
   "source": [
    "my_string=\"4ever\"\n",
    "\n",
    "print(my_string[0])\n",
    "\n",
    "test=int(my_string[0])\n",
    "\n",
    "print(type(test))"
   ]
  },
  {
   "cell_type": "markdown",
   "id": "7af0c9d7",
   "metadata": {},
   "source": [
    "## 練習2\n",
    "### 1.創建一個字符串變數 str1，將其設為任意喜歡的句子（至少包含5個單詞）。<br>2.創建一個整數變數 n，將其設為正整數值（例如，2、3、4等等）。<br>3.使用字符串重複操作符 * 將 str1 重複 n 次，並將結果存儲在變數 result_str 中。<br>4.使用字符串相加運算符 +，將 result_str 與一個新的字符串 str2（任意一個單詞或詞組）相加，並將結果存儲在 final_result 中。<br>5.使用 print 函式輸出 final_result。"
   ]
  },
  {
   "cell_type": "code",
   "execution_count": 9,
   "id": "c19a247a",
   "metadata": {},
   "outputs": [
    {
     "name": "stdout",
     "output_type": "stream",
     "text": [
      "love me like this love me like this love me like this ，and i love you right back\n"
     ]
    }
   ],
   "source": [
    "# 創建一個字符串變數\n",
    "str1 = \"love me like this \"\n",
    "\n",
    "# 創建一個整數變數\n",
    "n = 3\n",
    "\n",
    "# 使用字符串重複操作符 * 重複 str1 n 次\n",
    "result_str = str1 * n\n",
    "\n",
    "# 創建一個新的字符串變數\n",
    "str2 = \"and i love you right back\"\n",
    "\n",
    "# 使用字符串相加操作符 + 將 result_str 和 str2 相加\n",
    "final_result = result_str + \"，\" + str2\n",
    "\n",
    "# 輸出最終結果\n",
    "print(final_result)"
   ]
  },
  {
   "cell_type": "markdown",
   "id": "11a1d506",
   "metadata": {},
   "source": [
    "### 練習3"
   ]
  },
  {
   "cell_type": "code",
   "execution_count": 6,
   "id": "125e0f39",
   "metadata": {},
   "outputs": [
    {
     "name": "stdout",
     "output_type": "stream",
     "text": [
      "請輸入您的考試成績（0-100）：90\n",
      "您的成績是 90.0，等第結果是：A+\n"
     ]
    }
   ],
   "source": [
    "# 提示用戶輸入成績\n",
    "score = float(input(\"請輸入您的考試成績（0-100）：\"))\n",
    "\n",
    "# 根據成績評定等級\n",
    "if score >= 90:\n",
    "    grade = \"A+\"\n",
    "elif score >= 85:\n",
    "    grade = \"A\"\n",
    "elif score >= 80:\n",
    "    grade = \"A-\"\n",
    "elif score >= 70:\n",
    "    grade = \"B\"\n",
    "elif score >=60:\n",
    "    grade=\"c\"\n",
    "else:\n",
    "    grade = \"D\"\n",
    "\n",
    "# 格式化輸出成績和評定\n",
    "print(f\"您的成績是 {score}，等第結果是：{grade}\")"
   ]
  },
  {
   "cell_type": "markdown",
   "id": "9421a0eb",
   "metadata": {},
   "source": [
    "## 練習4-A"
   ]
  },
  {
   "cell_type": "code",
   "execution_count": 14,
   "id": "50e87786",
   "metadata": {},
   "outputs": [
    {
     "name": "stdout",
     "output_type": "stream",
     "text": [
      "4037913\n"
     ]
    }
   ],
   "source": [
    "A=0\n",
    "B=1\n",
    "for i in range(1,11):\n",
    "    B*=i\n",
    "    A+=B\n",
    "print(A)"
   ]
  },
  {
   "cell_type": "markdown",
   "id": "e084c10c",
   "metadata": {},
   "source": [
    "## 練習4-B"
   ]
  },
  {
   "cell_type": "code",
   "execution_count": 39,
   "id": "c2d42f2f",
   "metadata": {},
   "outputs": [
    {
     "name": "stdout",
     "output_type": "stream",
     "text": [
      "  *\t\n",
      " ***\t\n",
      "*****\t\n"
     ]
    }
   ],
   "source": [
    "#ver1 in c/c++ 邏輯如下\n",
    "n = 3\n",
    "\n",
    "for i in range(1,n+1):\n",
    "    for j in range(n-i):\n",
    "        print(\" \", end=\"\")\n",
    "    for k in range(0,2*i-1):\n",
    "        print(\"*\",end=\"\")\n",
    "    print(\"\\t\")"
   ]
  },
  {
   "cell_type": "code",
   "execution_count": 44,
   "id": "bb319245",
   "metadata": {},
   "outputs": [
    {
     "name": "stdout",
     "output_type": "stream",
     "text": [
      "  *\n",
      " ***\n",
      "*****\n"
     ]
    }
   ],
   "source": [
    "#ver2\n",
    "\n",
    "n = 3\n",
    "for i in range(n):\n",
    "    \n",
    "    print(\" \" * (n - i - 1), end=\"\")\n",
    "\n",
    "    print(\"*\" * (2 * i + 1))\n"
   ]
  },
  {
   "cell_type": "code",
   "execution_count": 45,
   "id": "b8639944",
   "metadata": {},
   "outputs": [
    {
     "name": "stdout",
     "output_type": "stream",
     "text": [
      "  *\n",
      " ***\n",
      "*****\n"
     ]
    }
   ],
   "source": [
    "#ver3\n",
    "\n",
    "n = 3                    \n",
    "for i in range(1,n+1):     \n",
    "    print(' ' * (n-i) + '*' * (2*i-1))"
   ]
  },
  {
   "cell_type": "code",
   "execution_count": 46,
   "id": "5e652dc9",
   "metadata": {},
   "outputs": [
    {
     "name": "stdout",
     "output_type": "stream",
     "text": [
      "    *\n",
      "   ***\n",
      "  *****\n",
      " *******\n",
      "*********\n",
      " *******\n",
      "  *****\n",
      "   ***\n",
      "    *\n"
     ]
    }
   ],
   "source": [
    "# 金字塔的层数\n",
    "num_layers = 5\n",
    "\n",
    "# 打印上半部分的金字塔\n",
    "for i in range(1, num_layers + 1):\n",
    "    # 打印左侧的空格，使金字塔居中对齐\n",
    "    print(\" \" * (num_layers - i), end=\"\")\n",
    "    \n",
    "    # 打印金字塔的星号部分\n",
    "    print(\"*\" * (2 * i - 1))\n",
    "\n",
    "# 打印下半部分的金字塔\n",
    "for i in range(num_layers - 1, 0, -1):\n",
    "    # 打印左侧的空格，使金字塔居中对齐\n",
    "    print(\" \" * (num_layers - i), end=\"\")\n",
    "    \n",
    "    # 打印金字塔的星号部分\n",
    "    print(\"*\" * (2 * i - 1))\n"
   ]
  },
  {
   "cell_type": "code",
   "execution_count": null,
   "id": "2cfa8802",
   "metadata": {},
   "outputs": [],
   "source": []
  },
  {
   "cell_type": "code",
   "execution_count": null,
   "id": "4e1f19cd",
   "metadata": {},
   "outputs": [],
   "source": [
    "#完成以下code\n",
    "\n",
    "import random\n",
    "number=random.randrange(1,50)\n",
    "guess=int(input(\"猜一個1-50的數字: \"))\n",
    "max=50\n",
    "min=1\n",
    "\n",
    "while guess!=number:\n",
    "    if guess<number:\n",
    "        min=guess\n",
    "        print(\"太小了\")\n",
    "        guess = int(input(f\"{min}~{max}，請重新猜: \"))\n",
    "    if guess>number:\n",
    "        max=guess\n",
    "        print(\"太太了\")\n",
    "        guess = int(input(f\"{min}~{max}，請重新猜: \"))  \n",
    "        \n",
    "print(f\"你猜對了，是 {number} !\")"
   ]
  }
 ],
 "metadata": {
  "kernelspec": {
   "display_name": "Python 3 (ipykernel)",
   "language": "python",
   "name": "python3"
  },
  "language_info": {
   "codemirror_mode": {
    "name": "ipython",
    "version": 3
   },
   "file_extension": ".py",
   "mimetype": "text/x-python",
   "name": "python",
   "nbconvert_exporter": "python",
   "pygments_lexer": "ipython3",
   "version": "3.9.13"
  }
 },
 "nbformat": 4,
 "nbformat_minor": 5
}
