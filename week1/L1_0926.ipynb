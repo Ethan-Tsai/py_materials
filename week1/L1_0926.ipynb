{
 "cells": [
  {
   "cell_type": "markdown",
   "id": "fc8fbc79",
   "metadata": {},
   "source": [
    "# 第一單元 基本介紹"
   ]
  },
  {
   "cell_type": "markdown",
   "id": "d48f8dc0",
   "metadata": {},
   "source": [
    "ipynb檔是一種結合文本的檔案，可以在特定的環境運行python，常用在教學、展示等時機。  \n",
    "py檔是純粹的python code檔案，請注意兩者差別~"
   ]
  },
  {
   "cell_type": "markdown",
   "id": "00681847",
   "metadata": {},
   "source": [
    "### 今天的第一行code "
   ]
  },
  {
   "cell_type": "code",
   "execution_count": null,
   "id": "30093e5a",
   "metadata": {},
   "outputs": [],
   "source": [
    "print(\"Hello World!\")"
   ]
  },
  {
   "cell_type": "markdown",
   "id": "bb1f23c0",
   "metadata": {},
   "source": [
    "#### 大家一定或多或少聽過 『Hello world!』吧  ，這是大多數人的第一個程式 。 看到印出Hello World!，就代表邁出學習python的第一步囉!"
   ]
  },
  {
   "cell_type": "markdown",
   "id": "6bb3b732",
   "metadata": {},
   "source": [
    "## 1.輸出   print() "
   ]
  },
  {
   "cell_type": "code",
   "execution_count": null,
   "id": "409aef05",
   "metadata": {},
   "outputs": [],
   "source": [
    "print(\"文字\")\n",
    "print(1)\n",
    "print(1+5)\n",
    "print(\"1+5\")"
   ]
  },
  {
   "cell_type": "markdown",
   "id": "d298294f",
   "metadata": {},
   "source": [
    "## 2.輸入 input()"
   ]
  },
  {
   "cell_type": "code",
   "execution_count": null,
   "id": "f5ad2ffa",
   "metadata": {},
   "outputs": [],
   "source": [
    "text = input()\n",
    "print(\"輸出: \"+text)"
   ]
  },
  {
   "cell_type": "markdown",
   "id": "edd802fa",
   "metadata": {},
   "source": [
    "#### 也可以在input() 括號中 輸入提示使用者輸入的文字"
   ]
  },
  {
   "cell_type": "code",
   "execution_count": null,
   "id": "3890cf21",
   "metadata": {},
   "outputs": [],
   "source": [
    "text = input(\"請輸入你的名字: \")\n",
    "print(text+\"期中考加油\")"
   ]
  },
  {
   "cell_type": "markdown",
   "id": "69a2a433",
   "metadata": {},
   "source": [
    "## 3.變數\n",
    "##### (舉手) 上面的text 是甚麼阿? \n",
    "偷懶直接上圖!"
   ]
  },
  {
   "cell_type": "markdown",
   "id": "324be53c",
   "metadata": {},
   "source": [
    "![變數1](https://ethan-tsai.github.io/py_materials/week1/variable1.jpg)\n",
    "![變數2](https://ethan-tsai.github.io/py_materials/week1/variable2.jpg)"
   ]
  },
  {
   "cell_type": "markdown",
   "id": "b985e029",
   "metadata": {},
   "source": [
    "### 當我們把變數想成容器，是不是會有不同 \"形狀\" 的容器呢?"
   ]
  },
  {
   "cell_type": "code",
   "execution_count": null,
   "id": "27e8fa32",
   "metadata": {},
   "outputs": [],
   "source": [
    "#數值型 \n",
    "int_variable = 5201314         #int 表 整數\n",
    "float_variable = 3.14          #float 表 浮點數\n",
    "bool_variable = False          #bool 表 布林值\n",
    "\n",
    "#字串型\n",
    "str_variable = \"This is a string! \"  #str 表 字串\n",
    "\n",
    "print(int_variable)\n",
    "print(float_variable)\n",
    "print(bool_variable)\n",
    "\n",
    "print(str_variable*2)  #(字串可以用*n來重複輸出n次!)\n"
   ]
  },
  {
   "cell_type": "markdown",
   "id": "98c95a17",
   "metadata": {},
   "source": [
    "#### 學過c/c++ 就會覺得python的資料型態是天使!  \n",
    "下周會有更細節的詳細介紹!"
   ]
  },
  {
   "cell_type": "code",
   "execution_count": 11,
   "id": "4e046288",
   "metadata": {},
   "outputs": [
    {
     "ename": "SyntaxError",
     "evalue": "invalid syntax (3005925763.py, line 1)",
     "output_type": "error",
     "traceback": [
      "\u001b[1;36m  File \u001b[1;32m\"C:\\Users\\ethan tsai\\AppData\\Local\\Temp\\ipykernel_22136\\3005925763.py\"\u001b[1;36m, line \u001b[1;32m1\u001b[0m\n\u001b[1;33m    for = 3.14\u001b[0m\n\u001b[1;37m        ^\u001b[0m\n\u001b[1;31mSyntaxError\u001b[0m\u001b[1;31m:\u001b[0m invalid syntax\n"
     ]
    }
   ],
   "source": [
    "for = 3.14"
   ]
  },
  {
   "cell_type": "markdown",
   "id": "49bfbec7",
   "metadata": {},
   "source": [
    "### ▲不過要特別注意! 變數的名字不是隨心所欲都可以~  : 保留字 if, for, and... 。  除此之外，還有其他規則，下週再分享給大家"
   ]
  },
  {
   "cell_type": "markdown",
   "id": "a6803101",
   "metadata": {},
   "source": [
    "## 4.註解\n",
    "#### 寫好註解跟寫好code一樣重要"
   ]
  },
  {
   "cell_type": "code",
   "execution_count": null,
   "id": "663a2386",
   "metadata": {},
   "outputs": [],
   "source": [
    "import itertools, functools, operator, sys\n",
    "\n",
    "def is_prime(n):\n",
    "    return n > 1 and all(n % i != 0 for i in range(2, int(n ** 0.5) + 1))\n",
    "\n",
    "def primes():\n",
    "    return (x for x in itertools.count() if is_prime(x))\n",
    "\n",
    "def fibonacci():\n",
    "    a, b = 0, 1\n",
    "    while True:\n",
    "        yield a\n",
    "        a, b = b, a + b\n",
    "\n",
    "def collatz(n):\n",
    "    while n != 1:\n",
    "        yield n\n",
    "        n = n // 2 if n % 2 == 0 else 3 * n + 1\n",
    "    yield 1\n",
    "\n",
    "def factorial(n):\n",
    "    return functools.reduce(operator.mul, range(1, n + 1), 1)\n",
    "\n",
    "def main():\n",
    "    print(\"Prime Numbers:\")\n",
    "    for p in itertools.islice(primes(), 10):\n",
    "        print(p, end=' ')\n",
    "\n",
    "    print(\"\\nFibonacci Sequence:\")\n",
    "    for f in itertools.islice(fibonacci(), 10):\n",
    "        print(f, end=' ')\n",
    "\n",
    "    print(\"\\nCollatz Sequence (starting from 6):\")\n",
    "    for c in itertools.islice(collatz(6), 10):\n",
    "        print(c, end=' ')\n",
    "\n",
    "    print(\"\\nFactorials:\")\n",
    "    for i in range(1, 11):\n",
    "        print(f\"{i}! = {factorial(i)}\")\n",
    "\n",
    "if __name__ == \"__main__\":\n",
    "    main()\n"
   ]
  },
  {
   "cell_type": "markdown",
   "id": "f029772d",
   "metadata": {},
   "source": [
    "#### 上面那段落落長的code 是不是看的很辛苦呢?\n",
    "#### 養成良好註解習慣 善待他人也善待自己"
   ]
  },
  {
   "cell_type": "code",
   "execution_count": null,
   "id": "11ea74df",
   "metadata": {
    "scrolled": true
   },
   "outputs": [],
   "source": [
    "#單行註解\n",
    "print(\"註解一定要寫，不寫會沒有分數\") #『#』我可以讓這一行 在我(#)之後的內容不會被當成code執行!"
   ]
  },
  {
   "cell_type": "markdown",
   "id": "99c384fd",
   "metadata": {},
   "source": [
    "#### 補充: 在py檔中 '''與\" \" \" 可以當成多行註解~\n",
    "\n",
    "  '''  <br>\n",
    "  print(\"這一行在py檔會被當註解掉\") <br>\n",
    "  '''"
   ]
  },
  {
   "cell_type": "markdown",
   "id": "0e1c25d7",
   "metadata": {},
   "source": [
    "[有趣梗圖分享] \n",
    "![meme1](https://ethan-tsai.github.io/py_materials/week1/meme1.png)"
   ]
  },
  {
   "cell_type": "markdown",
   "id": "df2285ed",
   "metadata": {},
   "source": [
    "## 5.運算"
   ]
  },
  {
   "cell_type": "markdown",
   "id": "ddf349c6",
   "metadata": {},
   "source": [
    "![運算](https://ethan-tsai.github.io/py_materials/week1/Operation.webp)\n",
    "\n",
    "圖源&參考資料: https://medium.com/ccclub/ccclub-python-for-beginners-tutorial-71f55bccb693"
   ]
  },
  {
   "cell_type": "markdown",
   "id": "16094f7e",
   "metadata": {},
   "source": [
    "## 6.python當然還有更複雜的寫法，在結束今天的課程前，先快速看看吧"
   ]
  },
  {
   "cell_type": "code",
   "execution_count": null,
   "id": "f753b0e6",
   "metadata": {},
   "outputs": [],
   "source": [
    "# 輸入與輸出\n",
    "name = input(\"請輸入您的名字：\")\n",
    "print(\"您好，\" + name + \"！\")\n",
    "\n",
    "age = int(input(\"請輸入您的年齡：\"))\n",
    "print(\"您的年齡是：\" + str(age))\n",
    "\n",
    "# 邏輯控制\n",
    "if age < 18:\n",
    "    print(\"學生票。\")\n",
    "elif age >= 18 and age < 65:\n",
    "    print(\"全票\")\n",
    "else:\n",
    "    print(\"優待票\")\n",
    "\n",
    "# 函式\n",
    "def add(x, y):\n",
    "    return x + y\n",
    "\n",
    "def subtract(x, y):\n",
    "    return x - y\n",
    "\n",
    "num1 = 10\n",
    "num2 = 5\n",
    "\n",
    "result1 = add(num1, num2)\n",
    "print(f\"{num1} + {num2} = {result1}\")\n",
    "\n",
    "result2 = subtract(num1, num2)\n",
    "print(f\"{num1} - {num2} = {result2}\")\n"
   ]
  },
  {
   "cell_type": "code",
   "execution_count": null,
   "id": "8c268755",
   "metadata": {},
   "outputs": [],
   "source": [
    "import time\n",
    "\n",
    "print(\"用print()，模擬Loading 效果: \")\n",
    "\n",
    "print(\"Loading\",end = \"\")\n",
    "for i in range(20):\n",
    "    print(\".\",end = '',flush = True)\n",
    "    time.sleep(0.5)"
   ]
  },
  {
   "cell_type": "code",
   "execution_count": null,
   "id": "0f299eaf",
   "metadata": {},
   "outputs": [],
   "source": [
    "import numpy as np #引入 numpy \n",
    "import matplotlib.pyplot as plt #引入matplotlib\n",
    "def f(x): #定義一個sin function做為測試用\n",
    "    return np.sin(x)\n",
    "t = np.arange(0,10,0.1) #建立一個array 0~10 0.1為間隔\n",
    "plt.plot(f(t)) #繪圖"
   ]
  }
 ],
 "metadata": {
  "kernelspec": {
   "display_name": "Python 3 (ipykernel)",
   "language": "python",
   "name": "python3"
  },
  "language_info": {
   "codemirror_mode": {
    "name": "ipython",
    "version": 3
   },
   "file_extension": ".py",
   "mimetype": "text/x-python",
   "name": "python",
   "nbconvert_exporter": "python",
   "pygments_lexer": "ipython3",
   "version": "3.9.13"
  }
 },
 "nbformat": 4,
 "nbformat_minor": 5
}
